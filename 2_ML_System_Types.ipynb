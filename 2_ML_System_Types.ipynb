{
 "cells": [
  {
   "cell_type": "markdown",
   "id": "378bc638",
   "metadata": {},
   "source": [
    "**Types of ML systems**"
   ]
  },
  {
   "cell_type": "markdown",
   "id": "9d5ac46f",
   "metadata": {},
   "source": [
    "a. Whether or not they are trained with human supervision:\n",
    "\n",
    "    1. Supervised Learning\n",
    "        - Training date includes desired solutions called **Labels** in case of classification, called **Predictors** in case of Regression.\n",
    "        - Some important supervised learning algorithms: \n",
    "            - k-nearest neighbours (KNN)\n",
    "            - Linear Regression\n",
    "            - Logistic Regression\n",
    "            - Support Vector Machines (SVMs)\n",
    "            - Decision Trees and Random Forests\n",
    "            - Neural Networks\n",
    "\n",
    "    2. Unsupervised Learning\n",
    "        - Training data is unlabeled, the system tries to learn without a teacher\n",
    "        - Some important unsupervised learning lagorithms:\n",
    "            - Clustering\n",
    "                - K-means algorithm \n",
    "                - Hierarchical Cluster Analysis (HCA)\n",
    "                - Expectation Maximization\n",
    "            - Visualization and Dimensionality Reduction\n",
    "                - Principal Component Analysis\n",
    "                - Kernel PCA\n",
    "                - Locally Liner Embedding (LLE)\n",
    "                - t-distributed Stochastic Neighbor Embedding (t-SNE)\n",
    "            - Association Rule Learning\n",
    "                - Apriori\n",
    "                - Eclat\n",
    "    3. Semisupervised Learning\n",
    "        - Partially labled training data: usually a lot of unlabeled data and a little bit of labeled data.\n",
    "        - For example Google photos: one lable per person, able to name them in every photo\n",
    "        - They are mostly combination of unsupervised and supervised algorithms:\n",
    "            - Deep Belief Networks (DBNs) \n",
    "                - based on unsupervised components Restricted Boltzmann Machines trained sequentially in unsupervised manner, then fine-tuned using supervised learning techniques\n",
    "    4. Reinforcement Learning\n",
    "        - leaning system called as agent, a policy defined what action agent should choose when it is in a given situation\n",
    "        - For example: DeepMind's AlphaGo\n"
   ]
  },
  {
   "cell_type": "markdown",
   "id": "ec4f812a",
   "metadata": {},
   "source": [
    "**Important tasks**\n",
    "\n",
    "- **Dimensionality Reduction**\n",
    "    - Merge several coreleted features into one; also called as Feature extraction.\n",
    "    - Often a good idea to apply dimensionality reduction algorithm to training data before feed it to another ML algorithm. \n",
    "\n",
    "- **Anomaly Detection**\n",
    "    - Removing outliers from a dataset before feeding it to another learning algorithm."
   ]
  },
  {
   "cell_type": "markdown",
   "id": "131f5e79",
   "metadata": {},
   "source": [
    "b. Whether or not system can learn incrementally from a stream of incoming data\n",
    "\n",
    "    1. Batch Learning\n",
    "        - Incapable of learning incrementally; must be trained using all available data\n",
    "        - First the system is trained, launched into production and runs without learning anymore\n",
    "        - Offline learning\n",
    "    2. Online Learning\n",
    "        - Need to train the system incrementally by feeding it data instances sequentially, either individually or in small groups called mini-batches\n",
    "        - Great for systems that receive data as a continous flow and need to adapt to change rapidly or autonomously.\n",
    "        - Good option if you have limited resources.\n",
    "        - Once learned about new data instances, it doesnt need them anymore unless for rollback.\n",
    "        - Online learning algorithms can be used to train systems on huge datasets that cannot fit in one machine's main memory - **Out of core learning**\n",
    "        - whole process is done offline: think of it as incremental learning.\n",
    "        - If bad data is fed, the system's performance will gradually decline"
   ]
  },
  {
   "cell_type": "markdown",
   "id": "52e079b4",
   "metadata": {},
   "source": [
    "c. Whether they work by simply comparing new data points to known data points, or instead detect patterns in teh training data and build a predictive model\n",
    "\n",
    "    1. Instance based learning\n",
    "        - The system learns the examples by heart, then generalizes to new cases using a similarity measure.\n",
    "        - The system would flag an email as spam if it has many words in common with a known spam email.\n",
    "    2. Model based learning\n",
    "        - Build a model from the set of examples then use that model to make predictions.\n",
    "        -  Ither define a utility function or fitness function that measures how good your model is, or define a cost function that measures how bad it is.\n",
    "        - If model doesnt perform well; you may need to use more attributes, get more or better quality training data, or select a more powerful model\n",
    "        - Applying the model to make predictions on new cases is called Inference."
   ]
  },
  {
   "cell_type": "code",
   "execution_count": 3,
   "id": "fea9c679",
   "metadata": {},
   "outputs": [],
   "source": [
    "import matplotlib\n",
    "import matplotlib.pyplot as plt\n",
    "import numpy as np\n",
    "import pandas as pd\n",
    "import sklearn"
   ]
  }
 ],
 "metadata": {
  "kernelspec": {
   "display_name": "mlvenv",
   "language": "python",
   "name": "python3"
  },
  "language_info": {
   "codemirror_mode": {
    "name": "ipython",
    "version": 3
   },
   "file_extension": ".py",
   "mimetype": "text/x-python",
   "name": "python",
   "nbconvert_exporter": "python",
   "pygments_lexer": "ipython3",
   "version": "3.11.0"
  }
 },
 "nbformat": 4,
 "nbformat_minor": 5
}
