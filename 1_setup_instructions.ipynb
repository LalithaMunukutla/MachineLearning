{
 "cells": [
  {
   "cell_type": "markdown",
   "id": "ce7db97d",
   "metadata": {},
   "source": [
    "Setup instructions of Jupyter notebook in vscode"
   ]
  },
  {
   "cell_type": "markdown",
   "id": "f7e69f49",
   "metadata": {},
   "source": [
    "Create a new path open that folder in vscode.\n",
    "Check python version by typing python --version in terminal.\n",
    "Create a virtual environment: python -m venv <vitual_env_name>\n",
    "To activate the virtual environment: <virtual_env_name>/Scripts/activate"
   ]
  }
 ],
 "metadata": {
  "language_info": {
   "name": "python"
  }
 },
 "nbformat": 4,
 "nbformat_minor": 5
}
